{
 "cells": [
  {
   "cell_type": "code",
   "execution_count": null,
   "id": "9f5d1608-0dac-47a9-9d6f-9149cd6d67cc",
   "metadata": {},
   "outputs": [],
   "source": [
    "#Import necessary packages\n",
    "import os\n",
    "import glob\n",
    "from tqdm import tqdm\n",
    "import pandas as pd\n",
    "import numpy as np\n",
    "import rasterio"
   ]
  },
  {
   "cell_type": "code",
   "execution_count": null,
   "id": "9f1cac09-73e1-495a-b41e-b3db18ab73e9",
   "metadata": {},
   "outputs": [],
   "source": [
    "# Creation of dataframe from the chip info\n",
    "d = {'vv': sorted(glob.glob(os.path.join('data','chips','VV','*.tif'), recursive = True)),\n",
    "     'vh': sorted(glob.glob(os.path.join('data','chips','VH','*.tif'), recursive = True)),\n",
    "     'dem': sorted(glob.glob(os.path.join('data','dem','*.tif'), recursive = True)),\n",
    "     'pwater': sorted(glob.glob(os.path.join('data','pwater','*.tif'), recursive = True)),\n",
    "     'label': sorted(glob.glob(os.path.join('data','labels','*.tif'), recursive = True))}\n",
    "df = pd.DataFrame(data=d)\n",
    "\n",
    "# Chip statistics calculation\n",
    "with tqdm(total=len(df),position=0, leave=True, desc=f'Chip statistics calculation') as pbar:\n",
    "    for index, row in df.iterrows():\n",
    "        wlbel = rasterio.open(row['label'])\n",
    "        wlabel_band = wlbel.read(1)\n",
    "        df.loc[index,'water_percent'] = np.count_nonzero(wlabel_band)*100 /wlabel_band.size\n",
    "        wlbel.close()\n",
    "        pbar.update(n=1)"
   ]
  },
  {
   "cell_type": "code",
   "execution_count": null,
   "id": "6d675b0b-5e3b-41ca-ba43-18810c6aa2e4",
   "metadata": {},
   "outputs": [],
   "source": [
    "# Saving the all chip infor dataframe\n",
    "df.to_csv(os.path.join('data','chip_info.csv'),index=False)"
   ]
  },
  {
   "cell_type": "code",
   "execution_count": null,
   "id": "1284f6ea",
   "metadata": {},
   "outputs": [],
   "source": [
    "df_filtered = df[(df['water_percent'] >= 1) & (df['water_percent'] < 100.0)]"
   ]
  },
  {
   "cell_type": "code",
   "execution_count": null,
   "id": "a8ad2968",
   "metadata": {},
   "outputs": [],
   "source": [
    "# Making two datasets based on water percentage of tiles\n",
    "# dataset01\n",
    "df_wp_gt_30 = df_filtered[df_filtered['water_percent'] >= 30.0]\n",
    "# dataset02\n",
    "df_wp_lt_30 = df_filtered[df_filtered['water_percent'] < 30.0]"
   ]
  },
  {
   "cell_type": "code",
   "execution_count": null,
   "id": "fb64fbce",
   "metadata": {},
   "outputs": [],
   "source": [
    "# Saving the test data dataframe\n",
    "df_wp_gt_30_test = df_wp_gt_30.sample(n = 30, random_state = 42)\n",
    "df_wp_gt_30 = df_wp_gt_30.drop(list(df_wp_gt_30_test.index))\n",
    "\n",
    "df_wp_lt_30_test = df_wp_lt_30.sample(n = 10, random_state = 42)\n",
    "df_wp_lt_30 = df_wp_lt_30.drop(list(df_wp_lt_30_test.index))\n",
    "\n",
    "chip_test_df = pd.concat([df_wp_gt_30_test,df_wp_lt_30_test])\n",
    "chip_test_df = chip_test_df[chip_test_df['water_percent'] < 99.9]\n",
    "chip_test_df = chip_test_df.sort_values(by=['water_percent'])"
   ]
  },
  {
   "cell_type": "code",
   "execution_count": null,
   "id": "73db4941",
   "metadata": {},
   "outputs": [],
   "source": [
    "# Saving the dataset1 dataframe\n",
    "df_wp_gt_30.to_csv(os.path.join('data','chip_set1.csv'),index=False)\n",
    "# Saving the dataset2 dataframe\n",
    "df_wp_lt_30.to_csv(os.path.join('data','chip_set2.csv'),index=False)\n",
    "# Saving the test data dataframe\n",
    "chip_test_df.to_csv(os.path.join('data','chip_test.csv'),index=False)"
   ]
  }
 ],
 "metadata": {
  "kernelspec": {
   "display_name": "Python 3 (ipykernel)",
   "language": "python",
   "name": "python3"
  },
  "language_info": {
   "codemirror_mode": {
    "name": "ipython",
    "version": 3
   },
   "file_extension": ".py",
   "mimetype": "text/x-python",
   "name": "python",
   "nbconvert_exporter": "python",
   "pygments_lexer": "ipython3",
   "version": "3.9.13"
  }
 },
 "nbformat": 4,
 "nbformat_minor": 5
}
